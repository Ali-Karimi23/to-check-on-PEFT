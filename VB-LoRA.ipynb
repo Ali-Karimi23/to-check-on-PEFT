{
 "cells": [
  {
   "cell_type": "code",
   "execution_count": null,
   "id": "b2a47574",
   "metadata": {},
   "outputs": [],
   "source": [
    "# @title Mount Google Drive if in Colab\n",
    "import os\n",
    "if os.path.isdir('/content/MyDrive'):\n",
    "    from google.colab import drive\n",
    "    drive.mount('/content/MyDrive')\n",
    "    BASE_DIR = 'content/MyDrive/00-github/to-check-on-PEFT/to-check-on-PEFT'\n",
    "else:\n",
    "    BASE_DIR = os.path.dirname(os.path.abspath(__file__))"
   ]
  },
  {
   "cell_type": "code",
   "execution_count": null,
   "id": "6cfe98ef",
   "metadata": {},
   "outputs": [],
   "source": [
    "# @title Import Libraries\n",
    "import os\n",
    "import torch\n",
    "from transformers import AutoModelForSequenceClassification, AutoTokenizer, TrainingArguments, Trainer\n",
    "from datasets import load_dataset, load_metric\n",
    "from peft import VBLoRAConfig, get_peft_model"
   ]
  },
  {
   "cell_type": "code",
   "execution_count": null,
   "id": "f4bdbba2",
   "metadata": {},
   "outputs": [],
   "source": [
    "# @title names and parameters\n",
    "MODEL_NAME = 'bert-base-uncased'  # @param {type:\"string\"}\n",
    "DATASET_NAME = 'glue'  # @param {type:\"string\"}\n",
    "DATASET_CONFIG_NAME = 'mrpc'  # @param [\"mrpc\", \"sst2\", \"cola\", \"qnli\", \"qqp\", \"stsb\", \"mnli\", \"rte\", \"wnli\"]\n",
    "NUM_LABELS = 2  # @param {type:\"integer\"}\n",
    "BATCH_SIZE = 16  # @param {type:\"integer\"}\n",
    "EPOCHS = 3  # @param {type:\"integer\"}\n",
    "LEARNING_RATE = 2e-5  # @param {type:\"number\"}\n",
    "LORA_RANK = 8  # @param {type:\"integer\"}\n",
    "LORA_ALPHA = 16  # @param {type:\"integer\"}\n",
    "LORA_DROPOUT = 0.1  # @param {type:\"number\"}"
   ]
  },
  {
   "cell_type": "code",
   "execution_count": null,
   "id": "074342d0",
   "metadata": {},
   "outputs": [],
   "source": [
    "# @title Model and Tokenizer Setup\n",
    "tokenizer = AutoTokenizer.from_pretrained(MODEL_NAME)\n",
    "model = AutoModelForSequenceClassification.from_pretrained(MODEL_NAME, num_labels=NUM_LABELS)"
   ]
  },
  {
   "cell_type": "code",
   "execution_count": null,
   "id": "9069fe00",
   "metadata": {},
   "outputs": [],
   "source": []
  }
 ],
 "metadata": {
  "kernelspec": {
   "display_name": "sentence_transformer",
   "language": "python",
   "name": "python3"
  },
  "language_info": {
   "name": "python",
   "version": "3.10.17"
  }
 },
 "nbformat": 4,
 "nbformat_minor": 5
}
